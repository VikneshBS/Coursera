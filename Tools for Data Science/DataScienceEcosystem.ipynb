{
  "nbformat": 4,
  "nbformat_minor": 0,
  "metadata": {
    "colab": {
      "provenance": [],
      "authorship_tag": "ABX9TyOASS5aT/1qrLpDYMDWhlc1",
      "include_colab_link": true
    },
    "kernelspec": {
      "name": "python3",
      "display_name": "Python 3"
    },
    "language_info": {
      "name": "python"
    }
  },
  "cells": [
    {
      "cell_type": "markdown",
      "metadata": {
        "id": "view-in-github",
        "colab_type": "text"
      },
      "source": [
        "<a href=\"https://colab.research.google.com/github/VikneshBS/Coursera/blob/main/Tools%20for%20Data%20Science/DataScienceEcosystem.ipynb\" target=\"_parent\"><img src=\"https://colab.research.google.com/assets/colab-badge.svg\" alt=\"Open In Colab\"/></a>"
      ]
    },
    {
      "cell_type": "markdown",
      "source": [
        "**Exercise 2: Create markdown cell with title of the notebook**"
      ],
      "metadata": {
        "id": "58l3kSGiB1GE"
      }
    },
    {
      "cell_type": "markdown",
      "source": [
        "# Data Science Tools and Ecosystems"
      ],
      "metadata": {
        "id": "qahaiEu91QkS"
      }
    },
    {
      "cell_type": "markdown",
      "source": [
        "**Exercise 3 - Create a markdown cell for an introduction**"
      ],
      "metadata": {
        "id": "PuglZgh2CZ_R"
      }
    },
    {
      "cell_type": "markdown",
      "source": [
        "In this notebook, Data Science Tools and Ecosystem are summarized.\n"
      ],
      "metadata": {
        "id": "8z2UXeh81sq0"
      }
    },
    {
      "cell_type": "markdown",
      "source": [
        "**Exercise 10 - Insert a markdown cell to list Objectives**"
      ],
      "metadata": {
        "id": "xoIRmfzoHFxM"
      }
    },
    {
      "cell_type": "markdown",
      "source": [
        "**Objectives:**\n",
        "- List Populare Languages for Data Science\n",
        "- List Data Science Libraries\n",
        "- Table of Data Science Tools\n",
        "- Examples of Arithmetic Expressions"
      ],
      "metadata": {
        "id": "M9N77WDnHh2W"
      }
    },
    {
      "cell_type": "markdown",
      "source": [
        "**Exercise 4 - Create a markdown cell to list data science languages**"
      ],
      "metadata": {
        "id": "kVs-hbc1CorE"
      }
    },
    {
      "cell_type": "markdown",
      "source": [
        "Some of the popular languages that Data Scientists use are:\n",
        "1. R\n",
        "2. Python\n",
        "3. SQL\n",
        "4. Java\n",
        "5. C++"
      ],
      "metadata": {
        "id": "1C1hN67SCwci"
      }
    },
    {
      "cell_type": "markdown",
      "source": [
        "**Exercise 5 - Create a markdown cell to list data science libraries**"
      ],
      "metadata": {
        "id": "sC5tb-9KDfGY"
      }
    },
    {
      "cell_type": "markdown",
      "source": [
        "Some of the commonly used libraries used by Data Scientists include:\n",
        "1. Pandas\n",
        "2. NumPy\n",
        "3. Matplotlib\n",
        "4. SciPy"
      ],
      "metadata": {
        "id": "8q649jKDDid8"
      }
    },
    {
      "cell_type": "markdown",
      "source": [
        "**Exercise 6 - Create a markdown cell with a table of Data Science tools**"
      ],
      "metadata": {
        "id": "N5bXvnhoD63t"
      }
    },
    {
      "cell_type": "markdown",
      "source": [
        "|Data Science Tools|\n",
        "--------------------\n",
        "|Jupyter IDE|\n",
        "|RStudio|\n",
        "|Apache Spark SQL|"
      ],
      "metadata": {
        "id": "gHjGkzxzD9Bw"
      }
    },
    {
      "cell_type": "markdown",
      "source": [
        "**Exercise 7 - Create a markdown cell introducing arithmetic expression**"
      ],
      "metadata": {
        "id": "IKydEbtBFxdy"
      }
    },
    {
      "cell_type": "markdown",
      "source": [
        "### Below are a few examples of evaluating arithmetic expressions in Python"
      ],
      "metadata": {
        "id": "raLpSyi-GIW3"
      }
    },
    {
      "cell_type": "markdown",
      "source": [
        "**Exercise 8 - Create a code cell to multiply and add numbers**"
      ],
      "metadata": {
        "id": "KsZIb8YFGO5y"
      }
    },
    {
      "cell_type": "code",
      "execution_count": 3,
      "metadata": {
        "id": "sivb2QHu1Oca",
        "colab": {
          "base_uri": "https://localhost:8080/"
        },
        "outputId": "f8205add-7649-4715-f5cc-16aab651af99"
      },
      "outputs": [
        {
          "output_type": "execute_result",
          "data": {
            "text/plain": [
              "17"
            ]
          },
          "metadata": {},
          "execution_count": 3
        }
      ],
      "source": [
        "# This a simple arithmetic expression to mutiply then add integers\n",
        "(3*4)+5"
      ]
    },
    {
      "cell_type": "markdown",
      "source": [
        "**Exercise 9 - Create a code cell to convert minutes to hours**"
      ],
      "metadata": {
        "id": "uXKUF3UqGZ1z"
      }
    },
    {
      "cell_type": "code",
      "source": [
        "# This will convert 200 minutes to hours by diving by 60\n",
        "(200//60)"
      ],
      "metadata": {
        "colab": {
          "base_uri": "https://localhost:8080/"
        },
        "id": "KufuJaVuGXap",
        "outputId": "6024fc20-445a-4655-daac-bbe1bd29d847"
      },
      "execution_count": 6,
      "outputs": [
        {
          "output_type": "execute_result",
          "data": {
            "text/plain": [
              "3"
            ]
          },
          "metadata": {},
          "execution_count": 6
        }
      ]
    },
    {
      "cell_type": "markdown",
      "source": [
        "**Exercise 11 - Create a markdown cell to indicate the Author's name**"
      ],
      "metadata": {
        "id": "1YBrh7djHIce"
      }
    },
    {
      "cell_type": "markdown",
      "source": [
        "## Author\n",
        "Viknesh B S"
      ],
      "metadata": {
        "id": "_SmTyiflIbaF"
      }
    }
  ]
}